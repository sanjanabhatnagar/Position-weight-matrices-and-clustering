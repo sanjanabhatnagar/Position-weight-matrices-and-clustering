{
 "cells": [
  {
   "cell_type": "code",
   "execution_count": null,
   "metadata": {},
   "outputs": [],
   "source": [
    "from numpy import array\n",
    "from Bio.Cluster import kcluster\n",
    "import random\n",
    "random.seed(0) # So that the cluster IDs don't change with every run1\n",
    "data=array([[0,8,8,9,6,5,6,7,9,9,8,8,7,6,6,8,9,6,8,7,9], # Pairwise distances between elements (element x element matrix)\n",
    "            [8,0,6,5,6,7,6,8,2,8,8,7,8,8,9,5,5,7,8,7,7], # All elements are decamers\n",
    "            [8,6,0,6,4,6,4,6,4,9,7,4,2,6,6,5,8,7,6,7,5],\n",
    "            [9,5,6,0,8,10,7,9,5,7,8,7,7,6,8,6,5,8,7,7,6],\n",
    "            [6,6,4,8,0,4,3,6,5,7,8,7,6,9,6,6,6,7,8,6,8],\n",
    "            [5,7,6,10,4,0,6,7,7,7,7,8,6,9,8,7,6,6,7,6,9],\n",
    "            [6,6,4,7,3,6,0,5,4,8,7,5,5,8,8,7,7,6,9,7,8],\n",
    "            [7,8,6,9,6,7,5,0,6,5,6,4,5,8,8,5,9,7,10,7,9],\n",
    "            [9,2,4,5,5,7,4,6,0,7,7,5,6,7,9,5,5,8,8,7,6],\n",
    "            [9,8,9,7,7,7,8,5,7,0,7,8,8,8,8,7,7,9,8,8,9],\n",
    "            [8,8,7,8,8,7,7,6,7,7,0,3,7,8,8,8,9,9,8,8,8],\n",
    "            [8,7,4,7,7,8,5,4,5,8,3,0,4,6,7,6,10,8,9,8,8],\n",
    "            [7,8,2,7,6,6,5,5,6,8,7,4,0,6,7,7,10,6,6,8,7],\n",
    "            [6,8,6,6,9,9,8,8,7,8,8,6,6,0,8,7,9,7,7,7,8],\n",
    "            [6,9,6,8,6,8,8,8,9,8,8,7,7,8,0,8,7,8,8,9,6],\n",
    "            [8,5,5,6,6,7,7,5,5,7,8,6,7,7,8,0,7,8,9,7,8],\n",
    "            [9,5,8,5,6,6,7,9,5,7,9,10,10,9,7,7,0,8,8,6,6],\n",
    "            [6,7,7,8,7,6,6,7,8,9,9,8,6,7,8,8,8,0,8,6,10],\n",
    "            [8,8,6,7,8,7,9,10,8,8,8,9,6,7,8,9,8,8,0,5,5],\n",
    "            [7,7,7,7,6,6,7,7,7,8,8,8,8,7,9,7,6,6,5,0,7],\n",
    "            [9,7,5,6,8,9,8,9,6,9,8,8,7,8,6,8,6,10,5,7,0]])\n",
    "            \n",
    "clusterid, error, nfound = kcluster(data, nclusters=7,npass=50) # k means clustering algorithm applied.\n",
    "print(clusterid) # Number of clusters depend upon the error. When error doesn't changes much the cluster number can be fixed.\n",
    "print(error)\n",
    "print(nfound)"
   ]
  }
 ],
 "metadata": {
  "kernelspec": {
   "display_name": "Python 3",
   "language": "python",
   "name": "python3"
  },
  "language_info": {
   "codemirror_mode": {
    "name": "ipython",
    "version": 3
   },
   "file_extension": ".py",
   "mimetype": "text/x-python",
   "name": "python",
   "nbconvert_exporter": "python",
   "pygments_lexer": "ipython3",
   "version": "3.7.6"
  }
 },
 "nbformat": 4,
 "nbformat_minor": 2
}
