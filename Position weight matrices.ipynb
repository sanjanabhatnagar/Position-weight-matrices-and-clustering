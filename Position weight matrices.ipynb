{
 "cells": [
  {
   "cell_type": "code",
   "execution_count": null,
   "metadata": {},
   "outputs": [],
   "source": [
    "from Bio import motifs\n",
    "from Bio.Seq import Seq\n",
    "instances = [Seq(#elements to be compared to be put here)]\n",
    "m = motifs.create(instances) \n",
    "pwm = m.counts.normalize(pseudocounts=0.5)\n",
    "print(pwm.consensus)\n",
    "print(pwm)\n",
    "print(m.counts) #Much like position frequency matrix\n",
    "m.weblogo(\"Cis_elements_Motif.jpeg\")                      "
   ]
  }
 ],
 "metadata": {
  "kernelspec": {
   "display_name": "Python 3",
   "language": "python",
   "name": "python3"
  },
  "language_info": {
   "codemirror_mode": {
    "name": "ipython",
    "version": 3
   },
   "file_extension": ".py",
   "mimetype": "text/x-python",
   "name": "python",
   "nbconvert_exporter": "python",
   "pygments_lexer": "ipython3",
   "version": "3.7.6"
  }
 },
 "nbformat": 4,
 "nbformat_minor": 2
}
